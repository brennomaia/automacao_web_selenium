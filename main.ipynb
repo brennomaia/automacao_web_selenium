{
 "cells": [
  {
   "cell_type": "code",
   "execution_count": 1,
   "source": [
    "from selenium import webdriver\r\n",
    "from selenium.webdriver.common.keys import Keys\r\n",
    "\r\n",
    "\r\n",
    "navegador = webdriver.Chrome()\r\n",
    "navegador.get(\"https://www.google.com.br/\")\r\n",
    "\r\n",
    "# dolar\r\n",
    "navegador.find_element_by_xpath('/html/body/div[1]/div[3]/form/div[1]/div[1]/div[1]/div/div[2]/input').send_keys(\"Contacão dólar\")\r\n",
    "navegador.find_element_by_xpath('/html/body/div[1]/div[3]/form/div[1]/div[1]/div[1]/div/div[2]/input').send_keys(Keys.ENTER)\r\n",
    "cotacao_dolar = navegador.find_element_by_xpath('//*[@id=\"knowledge-currency__updatable-data-column\"]/div[1]/div[2]/span[1]').get_attribute(\"data-value\")\r\n",
    "# print(contacao_dolar, type(contacao_dolar))\r\n",
    "\r\n",
    "# euro\r\n",
    "navegador.get(\"https://www.google.com.br/\")\r\n",
    "navegador.find_element_by_xpath('/html/body/div[1]/div[3]/form/div[1]/div[1]/div[1]/div/div[2]/input').send_keys(\"Contacão euro\")\r\n",
    "navegador.find_element_by_xpath('/html/body/div[1]/div[3]/form/div[1]/div[1]/div[1]/div/div[2]/input').send_keys(Keys.ENTER)\r\n",
    "cotacao_euro = navegador.find_element_by_xpath('//*[@id=\"knowledge-currency__updatable-data-column\"]/div[1]/div[2]/span[1]').get_attribute(\"data-value\")\r\n",
    "# print(contacao_euro, type(contacao_euro))\r\n",
    "\r\n",
    "# ouro\r\n",
    "navegador.get(\"https://www.melhorcambio.com/ouro-hoje\")\r\n",
    "navegador.find_element_by_xpath('//*[@id=\"comercial\"]')\r\n",
    "cotacao_ouro = navegador.find_element_by_xpath('//*[@id=\"comercial\"]').get_attribute(\"value\")\r\n",
    "cotacao_ouro = cotacao_ouro.replace(',', '.')\r\n",
    "navegador.quit()\r\n",
    "# print(contacao_ouro, type(contacao_ouro))\r\n",
    "\r\n",
    "\r\n",
    "\r\n"
   ],
   "outputs": [],
   "metadata": {}
  },
  {
   "cell_type": "code",
   "execution_count": 2,
   "source": [
    "import pandas as pd \r\n",
    "\r\n",
    "tabela = pd.read_excel(\"Produtos.xlsx\")\r\n",
    "\r\n",
    "\r\n",
    "tabela.loc[tabela[\"Moeda\"] == \"Dólar\" , \"Cotação\"] = float(cotacao_dolar)\r\n",
    "tabela.loc[tabela[\"Moeda\"] == \"Euro\" , \"Cotação\"] = float(cotacao_euro)\r\n",
    "tabela.loc[tabela[\"Moeda\"] == \"Ouro\" , \"Cotação\"] = float(cotacao_ouro)\r\n",
    "\r\n",
    "tabela[\"Preço Base Reais\"] = tabela[\"Preço Base Original\"] * tabela[\"Cotação\"]\r\n",
    "tabela[\"Preço Final\"] = tabela[\"Preço Base Reais\"] * tabela[\"Margem\"]\r\n",
    "\r\n",
    "tabela[\"Cotação\"] = tabela[\"Cotação\"].map(\"{:.2f}\".format)\r\n",
    "tabela[\"Preço Base Reais\"] = tabela[\"Preço Base Reais\"].map(\"{:.2f}\".format)\r\n",
    "tabela[\"Preço Final\"] = tabela[\"Preço Final\"].map(\"R${:.2f}\".format)\r\n",
    "\r\n",
    "\r\n",
    "tabela.to_excel(\"Produtos_Novo.xlsx\")\r\n",
    "\r\n"
   ],
   "outputs": [],
   "metadata": {}
  }
 ],
 "metadata": {
  "orig_nbformat": 4,
  "language_info": {
   "name": "python",
   "version": "3.9.0",
   "mimetype": "text/x-python",
   "codemirror_mode": {
    "name": "ipython",
    "version": 3
   },
   "pygments_lexer": "ipython3",
   "nbconvert_exporter": "python",
   "file_extension": ".py"
  },
  "kernelspec": {
   "name": "python3",
   "display_name": "Python 3.9.0 64-bit"
  },
  "interpreter": {
   "hash": "fe13f7364f85f16ba8fbe13b345b9cab78e7b583f2736b9ce9df2c53fbc2eba3"
  }
 },
 "nbformat": 4,
 "nbformat_minor": 2
}